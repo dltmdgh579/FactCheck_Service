{
 "cells": [
  {
   "cell_type": "code",
   "execution_count": 1,
   "id": "polyphonic-phoenix",
   "metadata": {},
   "outputs": [
    {
     "name": "stderr",
     "output_type": "stream",
     "text": [
      "/home/ubuntu/anaconda3/envs/tensorflow2_latest_p37/lib/python3.7/site-packages/gensim/similarities/__init__.py:15: UserWarning: The gensim.similarities.levenshtein submodule is disabled, because the optional Levenshtein package <https://pypi.org/project/python-Levenshtein/> is unavailable. Install Levenhstein (e.g. `pip install python-Levenshtein`) to suppress this warning.\n",
      "  warnings.warn(msg)\n"
     ]
    },
    {
     "data": {
      "text/html": [
       "<div>\n",
       "<style scoped>\n",
       "    .dataframe tbody tr th:only-of-type {\n",
       "        vertical-align: middle;\n",
       "    }\n",
       "\n",
       "    .dataframe tbody tr th {\n",
       "        vertical-align: top;\n",
       "    }\n",
       "\n",
       "    .dataframe thead th {\n",
       "        text-align: right;\n",
       "    }\n",
       "</style>\n",
       "<table border=\"1\" class=\"dataframe\">\n",
       "  <thead>\n",
       "    <tr style=\"text-align: right;\">\n",
       "      <th></th>\n",
       "      <th>document</th>\n",
       "      <th>link</th>\n",
       "      <th>label</th>\n",
       "      <th>doc_len</th>\n",
       "    </tr>\n",
       "  </thead>\n",
       "  <tbody>\n",
       "    <tr>\n",
       "      <th>0</th>\n",
       "      <td>OECD 회원국 중 한국 터키만 상원이 없다</td>\n",
       "      <td>https://factcheck.snu.ac.kr/v2/facts/3285</td>\n",
       "      <td>전혀 사실 아님</td>\n",
       "      <td>7</td>\n",
       "    </tr>\n",
       "    <tr>\n",
       "      <th>1</th>\n",
       "      <td>트럼프 \"100조 무기가 탈레반에\", 사실일까?</td>\n",
       "      <td>https://factcheck.snu.ac.kr/v2/facts/3283</td>\n",
       "      <td>대체로 사실 아님</td>\n",
       "      <td>5</td>\n",
       "    </tr>\n",
       "    <tr>\n",
       "      <th>2</th>\n",
       "      <td>대선후보 경선등록 후 완주하지 않으면 독자출마 가능하다</td>\n",
       "      <td>https://factcheck.snu.ac.kr/v2/facts/3281</td>\n",
       "      <td>대체로 사실 아님</td>\n",
       "      <td>7</td>\n",
       "    </tr>\n",
       "    <tr>\n",
       "      <th>3</th>\n",
       "      <td>사형 집행해야 사회 안전해진다</td>\n",
       "      <td>https://factcheck.snu.ac.kr/v2/facts/3279</td>\n",
       "      <td>대체로 사실 아님</td>\n",
       "      <td>4</td>\n",
       "    </tr>\n",
       "    <tr>\n",
       "      <th>4</th>\n",
       "      <td>사랑제일교회 야외 예배는 방역법을 준수했다</td>\n",
       "      <td>https://factcheck.snu.ac.kr/v2/facts/3278</td>\n",
       "      <td>전혀 사실 아님</td>\n",
       "      <td>5</td>\n",
       "    </tr>\n",
       "    <tr>\n",
       "      <th>...</th>\n",
       "      <td>...</td>\n",
       "      <td>...</td>\n",
       "      <td>...</td>\n",
       "      <td>...</td>\n",
       "    </tr>\n",
       "    <tr>\n",
       "      <th>4234</th>\n",
       "      <td>여름엔 긴팔 셔츠보다 반팔이 더 시원할까?</td>\n",
       "      <td>https://factcheck.snu.ac.kr/v2/facts/210</td>\n",
       "      <td>절반의 사실</td>\n",
       "      <td>6</td>\n",
       "    </tr>\n",
       "    <tr>\n",
       "      <th>4235</th>\n",
       "      <td>단종된 갤럭시노트7의 재고 부품을 활용한 삼성전자의 '갤럭시노트FE'는 신제품일까?</td>\n",
       "      <td>https://factcheck.snu.ac.kr/v2/facts/204</td>\n",
       "      <td>절반의 사실</td>\n",
       "      <td>8</td>\n",
       "    </tr>\n",
       "    <tr>\n",
       "      <th>4236</th>\n",
       "      <td>공공와이파이 20만개 설치시 연 4천800억~8천500억원의 데이터요금을 경감할 수...</td>\n",
       "      <td>https://factcheck.snu.ac.kr/v2/facts/191</td>\n",
       "      <td>대체로 사실</td>\n",
       "      <td>9</td>\n",
       "    </tr>\n",
       "    <tr>\n",
       "      <th>4237</th>\n",
       "      <td>참여연대 등이  '통신 기본료 1만1천원 폐지' 공약 이행을 주장하고 있다.   L...</td>\n",
       "      <td>https://factcheck.snu.ac.kr/v2/facts/187</td>\n",
       "      <td>논쟁중</td>\n",
       "      <td>18</td>\n",
       "    </tr>\n",
       "    <tr>\n",
       "      <th>4238</th>\n",
       "      <td>고농도 미세먼지가 발생할 때 최대 86%가 국외 특히 중국에서 온 것으로 나타났다는...</td>\n",
       "      <td>https://factcheck.snu.ac.kr/v2/facts/71</td>\n",
       "      <td>판단 유보</td>\n",
       "      <td>15</td>\n",
       "    </tr>\n",
       "  </tbody>\n",
       "</table>\n",
       "<p>4239 rows × 4 columns</p>\n",
       "</div>"
      ],
      "text/plain": [
       "                                               document  \\\n",
       "0                              OECD 회원국 중 한국 터키만 상원이 없다   \n",
       "1                            트럼프 \"100조 무기가 탈레반에\", 사실일까?   \n",
       "2                        대선후보 경선등록 후 완주하지 않으면 독자출마 가능하다   \n",
       "3                                      사형 집행해야 사회 안전해진다   \n",
       "4                               사랑제일교회 야외 예배는 방역법을 준수했다   \n",
       "...                                                 ...   \n",
       "4234                            여름엔 긴팔 셔츠보다 반팔이 더 시원할까?   \n",
       "4235     단종된 갤럭시노트7의 재고 부품을 활용한 삼성전자의 '갤럭시노트FE'는 신제품일까?   \n",
       "4236  공공와이파이 20만개 설치시 연 4천800억~8천500억원의 데이터요금을 경감할 수...   \n",
       "4237  참여연대 등이  '통신 기본료 1만1천원 폐지' 공약 이행을 주장하고 있다.   L...   \n",
       "4238  고농도 미세먼지가 발생할 때 최대 86%가 국외 특히 중국에서 온 것으로 나타났다는...   \n",
       "\n",
       "                                           link      label  doc_len  \n",
       "0     https://factcheck.snu.ac.kr/v2/facts/3285   전혀 사실 아님        7  \n",
       "1     https://factcheck.snu.ac.kr/v2/facts/3283  대체로 사실 아님        5  \n",
       "2     https://factcheck.snu.ac.kr/v2/facts/3281  대체로 사실 아님        7  \n",
       "3     https://factcheck.snu.ac.kr/v2/facts/3279  대체로 사실 아님        4  \n",
       "4     https://factcheck.snu.ac.kr/v2/facts/3278   전혀 사실 아님        5  \n",
       "...                                         ...        ...      ...  \n",
       "4234   https://factcheck.snu.ac.kr/v2/facts/210     절반의 사실        6  \n",
       "4235   https://factcheck.snu.ac.kr/v2/facts/204     절반의 사실        8  \n",
       "4236   https://factcheck.snu.ac.kr/v2/facts/191     대체로 사실        9  \n",
       "4237   https://factcheck.snu.ac.kr/v2/facts/187        논쟁중       18  \n",
       "4238    https://factcheck.snu.ac.kr/v2/facts/71      판단 유보       15  \n",
       "\n",
       "[4239 rows x 4 columns]"
      ]
     },
     "execution_count": 1,
     "metadata": {},
     "output_type": "execute_result"
    }
   ],
   "source": [
    "from http.server import BaseHTTPRequestHandler, HTTPServer\n",
    "import logging\n",
    "import requests\n",
    "import urllib.request\n",
    "import json\n",
    "import numpy as np\n",
    "from tensorflow.keras.models import load_model\n",
    "from gensim.models import FastText\n",
    "from konlpy.tag import Okt\n",
    "import boto3\n",
    "import sys\n",
    "import pandas as pd\n",
    "from tqdm import tqdm\n",
    "from keras.preprocessing.text import Tokenizer\n",
    "from keras.preprocessing import sequence\n",
    "from tensorflow.keras.preprocessing.sequence import pad_sequences\n",
    "import urllib.parse\n",
    "import urllib.request\n",
    "from bs4 import BeautifulSoup\n",
    "from sklearn.feature_extraction.text import TfidfVectorizer\n",
    "import re\n",
    "\n",
    "if sys.version_info[0] < 3:\n",
    "    from io import StringIO # Python 2.x\n",
    "else:\n",
    "    from io import StringIO # Python 3.x\n",
    "\n",
    "# get your credentials from environment variables\n",
    "aws_id = ''\n",
    "aws_secret = ''\n",
    "\n",
    "client = boto3.client('s3', aws_access_key_id=aws_id,\n",
    "        aws_secret_access_key=aws_secret)\n",
    "\n",
    "bucket_name = 'snucsv'\n",
    "\n",
    "object_key = 'SNU_All.csv'\n",
    "csv_obj = client.get_object(Bucket=bucket_name, Key=object_key)\n",
    "body = csv_obj['Body']\n",
    "csv_string = body.read().decode('cp949')\n",
    "\n",
    "# load data\n",
    "train_df = pd.read_csv(StringIO(csv_string))\n",
    "label_names = [\"label\"]\n",
    "y_train = train_df[label_names].values\n",
    "\n",
    "train_df['doc_len'] = train_df['document'].apply(lambda words: len(words.split(\" \")))\n",
    "max_seq_len = np.round(train_df['doc_len'].mean() + train_df['doc_len'].std()).astype(int)\n",
    "train_df"
   ]
  },
  {
   "cell_type": "code",
   "execution_count": 4,
   "id": "removed-meter",
   "metadata": {},
   "outputs": [],
   "source": [
    "import pandas as pd\n",
    "import matplotlib.pyplot as plt\n",
    "import urllib.request\n",
    "from gensim.models.word2vec import Word2Vec\n",
    "from konlpy.tag import Okt"
   ]
  },
  {
   "cell_type": "code",
   "execution_count": 6,
   "id": "burning-locator",
   "metadata": {},
   "outputs": [],
   "source": [
    "# train_data = pd.read_table('ratings_train.txt')"
   ]
  },
  {
   "cell_type": "code",
   "execution_count": 2,
   "id": "aggressive-fundamentals",
   "metadata": {},
   "outputs": [
    {
     "name": "stdout",
     "output_type": "stream",
     "text": [
      "4239\n"
     ]
    }
   ],
   "source": [
    "print(len(train_df))"
   ]
  },
  {
   "cell_type": "code",
   "execution_count": 3,
   "id": "sized-swing",
   "metadata": {},
   "outputs": [
    {
     "name": "stdout",
     "output_type": "stream",
     "text": [
      "False\n"
     ]
    }
   ],
   "source": [
    "train_data = train_df.dropna(how = 'any') # Null 값이 존재하는 행 제거\n",
    "print(train_data.isnull().values.any()) # Null 값이 존재하는지 확인"
   ]
  },
  {
   "cell_type": "code",
   "execution_count": 4,
   "id": "christian-dispute",
   "metadata": {},
   "outputs": [
    {
     "name": "stderr",
     "output_type": "stream",
     "text": [
      "/home/ubuntu/anaconda3/envs/tensorflow2_latest_p37/lib/python3.7/site-packages/ipykernel_launcher.py:1: FutureWarning: The default value of regex will change from True to False in a future version.\n",
      "  \"\"\"Entry point for launching an IPython kernel.\n"
     ]
    }
   ],
   "source": [
    "train_data['document'] = train_data['document'].str.replace(\"[^ㄱ-ㅎㅏ-ㅣ가-힣 ]\",\"\")"
   ]
  },
  {
   "cell_type": "code",
   "execution_count": 5,
   "id": "ordinary-progress",
   "metadata": {},
   "outputs": [],
   "source": [
    "stopwords = ['의','가','이','은','들','는','좀','잘','걍','과','도','를','으로','자','에','와','한','하다']\n",
    "okt = Okt()\n",
    "tokenized_data = []\n",
    "for sentence in train_data['document']:\n",
    "    temp_X = okt.morphs(sentence, stem=True) # 토큰화\n",
    "    temp_X = [word for word in temp_X if not word in stopwords] # 불용어 제거\n",
    "    tokenized_data.append(temp_X)"
   ]
  },
  {
   "cell_type": "code",
   "execution_count": 6,
   "id": "bigger-chance",
   "metadata": {},
   "outputs": [],
   "source": [
    "from gensim.models import FastText\n",
    "model = FastText(sentences = tokenized_data, window = 5, min_count = 5, workers = 4, sg = 1)\n",
    "\n",
    "model.save('similar_keyword_model_SNU')"
   ]
  },
  {
   "cell_type": "code",
   "execution_count": 7,
   "id": "educational-palestinian",
   "metadata": {},
   "outputs": [
    {
     "name": "stdout",
     "output_type": "stream",
     "text": [
      "[('유니클로', 0.9996781945228577), ('공공기관', 0.999670147895813), ('플라스틱', 0.9996676445007324), ('줄어들다', 0.9996495842933655), ('불법체류자', 0.9996414184570312)]\n"
     ]
    }
   ],
   "source": [
    "loaded_model = FastText.load('similar_keyword_model_SNU')\n",
    "print(loaded_model.wv.most_similar('김정은', topn=5))"
   ]
  },
  {
   "cell_type": "code",
   "execution_count": 8,
   "id": "standing-haiti",
   "metadata": {},
   "outputs": [
    {
     "data": {
      "text/plain": [
       "[('감염', 0.9859572052955627),\n",
       " ('바이러스', 0.9824109673500061),\n",
       " ('신종', 0.980414628982544),\n",
       " ('코로나바이러스', 0.977348804473877),\n",
       " ('맞다', 0.9728062152862549)]"
      ]
     },
     "execution_count": 8,
     "metadata": {},
     "output_type": "execute_result"
    }
   ],
   "source": [
    "from gensim.models import FastText\n",
    "loaded_model = FastText.load('similar_keyword_model_SNU')\n",
    "\n",
    "a = loaded_model.wv.most_similar('코로나', topn=5)\n",
    "a"
   ]
  },
  {
   "cell_type": "code",
   "execution_count": 9,
   "id": "deluxe-adult",
   "metadata": {},
   "outputs": [
    {
     "data": {
      "text/plain": [
       "'김정일'"
      ]
     },
     "execution_count": 9,
     "metadata": {},
     "output_type": "execute_result"
    }
   ],
   "source": [
    "a[0][0]"
   ]
  },
  {
   "cell_type": "code",
   "execution_count": 13,
   "id": "little-ending",
   "metadata": {},
   "outputs": [
    {
     "data": {
      "text/plain": [
       "['김정일', '정은', '이수현', '김정태', '김정훈']"
      ]
     },
     "execution_count": 13,
     "metadata": {},
     "output_type": "execute_result"
    }
   ],
   "source": [
    "blist = []\n",
    "for i in range(len(a)):\n",
    "    blist.append(a[i][0])\n",
    "    \n",
    "blist"
   ]
  },
  {
   "cell_type": "code",
   "execution_count": null,
   "id": "cleared-chuck",
   "metadata": {},
   "outputs": [],
   "source": []
  }
 ],
 "metadata": {
  "kernelspec": {
   "display_name": "Python 3",
   "language": "python",
   "name": "python3"
  },
  "language_info": {
   "codemirror_mode": {
    "name": "ipython",
    "version": 3
   },
   "file_extension": ".py",
   "mimetype": "text/x-python",
   "name": "python",
   "nbconvert_exporter": "python",
   "pygments_lexer": "ipython3",
   "version": "3.7.10"
  }
 },
 "nbformat": 4,
 "nbformat_minor": 5
}

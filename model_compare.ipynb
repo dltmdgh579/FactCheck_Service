{
 "cells": [
  {
   "cell_type": "code",
   "execution_count": 58,
   "source": [
    "from http.server import BaseHTTPRequestHandler, HTTPServer\r\n",
    "import logging\r\n",
    "import requests\r\n",
    "import urllib.request\r\n",
    "import json\r\n",
    "import numpy as np\r\n",
    "from tensorflow.keras.models import load_model\r\n",
    "from gensim.models import FastText\r\n",
    "from konlpy.tag import Okt\r\n",
    "import boto3\r\n",
    "import sys\r\n",
    "import pandas as pd\r\n",
    "from tqdm import tqdm\r\n",
    "from keras.preprocessing.text import Tokenizer\r\n",
    "from keras.preprocessing import sequence\r\n",
    "from tensorflow.keras.preprocessing.sequence import pad_sequences\r\n",
    "import urllib.parse\r\n",
    "import urllib.request\r\n",
    "from bs4 import BeautifulSoup\r\n",
    "from sklearn.feature_extraction.text import TfidfVectorizer\r\n",
    "import re\r\n",
    "import math\r\n",
    "\r\n",
    "MAX_NB_WORDS = 100000\r\n",
    "SNU_model_All_rare = load_model('SNU_LSTM_Model_All.h5')\r\n",
    "\r\n",
    "SNU_model_All = load_model('SNU_LSTM_Model_All_balance.h5')\r\n",
    "SNU_model_pol = load_model('SNU_LSTM_Model_정치_balance.h5')\r\n",
    "SNU_model_eco = load_model('SNU_LSTM_Model_경제_balance.h5')\r\n",
    "SNU_model_soc = load_model('SNU_LSTM_Model_사회_balance.h5')\r\n",
    "SNU_model_others = load_model('SNU_LSTM_Model_기타_balance.h5')\r\n",
    "\r\n",
    "Naver_Comments_All = load_model('Naver_Comments_Model_All.h5')\r\n",
    "Naver_Comments_pol = load_model('Naver_Comments_Model_정치.h5')\r\n",
    "Naver_Comments_eco = load_model('Naver_Comments_Model_경제.h5')\r\n",
    "Naver_Comments_soc = load_model('Naver_Comments_Model_사회.h5')\r\n",
    "Naver_Comments_others = load_model('Naver_Comments_Model_기타.h5')\r\n",
    "\r\n",
    "kakao_model = load_model('kakao_LSTM_model.h5')\r\n",
    "# SNU_model_shuffle = load_model('SNU_LSTM_Model_shuffle.h5')\r\n",
    "similar_model = FastText.load('similar_keyword_model')\r\n",
    "\r\n",
    "class MyTokenizer:\r\n",
    "    def __init__(self, tagger):\r\n",
    "        self.tagger = tagger\r\n",
    "\r\n",
    "    def __call__(self, sent):\r\n",
    "        pos = self.tagger.pos(sent)\r\n",
    "        clean_words = []  # 정제된 단어 리스트\r\n",
    "        for word in pos:\r\n",
    "            # word[1]은 품사를 의미하며, 여기서는 조사, 문장기호, 접두사, Foreign('\\n'을 빼주기 위함)인 것은 제외시킴.\r\n",
    "            if word[1] not in ['Josa', 'Punctuation', 'Suffix', 'Foreign']:\r\n",
    "                if len(word[0]) >= 2:  # 한 글자인 단어들도 의미가 없는 경우가 많으므로 일단 제외.\r\n",
    "                    #if word[0] not in ['있다', '했다', '한다', '없다', '된다']:\r\n",
    "                    clean_words.append(word[0])\r\n",
    "        return clean_words\r\n",
    "\r\n",
    "\r\n",
    "my_Tokenizer = MyTokenizer(Okt())\r\n",
    "okt = Okt()\r\n",
    "stopwords = ['의','가','이','은','들','는','좀','잘','걍','과','도','를','으로','자','에','와','한','하다']"
   ],
   "outputs": [],
   "metadata": {}
  },
  {
   "cell_type": "code",
   "execution_count": 59,
   "source": [
    "if sys.version_info[0] < 3:\r\n",
    "    from io import StringIO # Python 2.x\r\n",
    "else:\r\n",
    "    from io import StringIO # Python 3.x\r\n",
    "\r\n",
    "# get your credentials from environment variables\r\n",
    "aws_id = ''\r\n",
    "aws_secret = ''\r\n",
    "\r\n",
    "client = boto3.client('s3', aws_access_key_id=aws_id,\r\n",
    "        aws_secret_access_key=aws_secret)\r\n",
    "\r\n",
    "bucket_name = 'snucsv'\r\n",
    "label_names = [\"label\"]\r\n",
    "\r\n",
    "def s3_load(category):\r\n",
    "    object_key = category\r\n",
    "    csv_obj = client.get_object(Bucket=bucket_name, Key=object_key)\r\n",
    "    body = csv_obj['Body']\r\n",
    "    csv_string = body.read().decode('cp949')\r\n",
    "\r\n",
    "    # load data\r\n",
    "    train_df = pd.read_csv(StringIO(csv_string))\r\n",
    "    y_train = train_df[label_names].values\r\n",
    "\r\n",
    "    train_df['doc_len'] = train_df['document'].apply(lambda words: len(words.split(\" \")))\r\n",
    "    max_seq_len = np.round(train_df['doc_len'].mean() + train_df['doc_len'].std()).astype(int)\r\n",
    "    \r\n",
    "    return train_df, y_train, max_seq_len\r\n",
    "\r\n",
    "def s3_Comments_load(category):\r\n",
    "    object_key = category\r\n",
    "    csv_obj = client.get_object(Bucket=bucket_name, Key=object_key)\r\n",
    "    body = csv_obj['Body']\r\n",
    "    csv_string = body.read().decode('utf-8')\r\n",
    "\r\n",
    "    # load data\r\n",
    "    train_df = pd.read_csv(StringIO(csv_string))\r\n",
    "    y_train = train_df[label_names].values\r\n",
    "\r\n",
    "    train_df['doc_len'] = train_df['Comments'].apply(lambda words: len(words.split(\" \")))\r\n",
    "    max_seq_len = np.round(train_df['doc_len'].mean() + train_df['doc_len'].std()).astype(int)\r\n",
    "    \r\n",
    "    return train_df, y_train, max_seq_len\r\n",
    "\r\n",
    "train_df_All_rare, y_train_All_rare, max_seq_len_rare = s3_load('SNU_All.csv')\r\n",
    "\r\n",
    "train_df_All_, y_train_All_, max_seq_len = s3_load('SNU_All_.csv')\r\n",
    "train_df_All_b, y_train_All_b, max_seq_len_All_b = s3_load('SNU_All_b.csv')\r\n",
    "train_df_eco, y_train_eco, max_seq_len_eco = s3_load('SNU_경제_b.csv')\r\n",
    "train_df_pol, y_train_pol, max_seq_len_pol = s3_load('SNU_정치_b.csv')\r\n",
    "train_df_soc, y_train_soc, max_seq_len_soc = s3_load('SNU_사회_b.csv')\r\n",
    "train_df_others, y_train_others, max_seq_len_others = s3_load('SNU_기타_b.csv')\r\n",
    "\r\n",
    "train_df_Comments_All, y_train_Comments_All, max_seq_len_Comments = s3_Comments_load('Naver_Comments_All.csv')\r\n",
    "train_df_Comments_pol, y_train_Comments_pol, max_seq_len_Comments_pol = s3_Comments_load('Naver_Comments_정치.csv')\r\n",
    "train_df_Comments_eco, y_train_Comments_eco, max_seq_len_Comments_eco = s3_Comments_load('Naver_Comments_경제.csv')\r\n",
    "train_df_Comments_soc, y_train_Comments_soc, max_seq_len_Comments_soc = s3_Comments_load('Naver_Comments_사회.csv')\r\n",
    "train_df_Comments_others, y_train_Comments_All, max_seq_len_Comments_others = s3_Comments_load('Naver_Comments_기타.csv')"
   ],
   "outputs": [],
   "metadata": {}
  },
  {
   "cell_type": "code",
   "execution_count": 60,
   "source": [
    "train_df_All_rare['label'] = train_df_All_rare['label'].map({'전혀 사실 아님':0, '대체로 사실 아님':0, '사실':1, '대체로 사실':1})\r\n",
    "train_df_All_rare.dropna(axis=0, inplace=True)\r\n",
    "train_df_All_rare.reset_index(drop=True, inplace=True)\r\n",
    "train_df_All_rare['label'].astype(int)\r\n",
    "y_train_All_rare = train_df_All_rare['label'].values"
   ],
   "outputs": [],
   "metadata": {}
  },
  {
   "cell_type": "code",
   "execution_count": 61,
   "source": [
    "def embedding_padding(train_df):\r\n",
    "    raw_docs_train = train_df['document'].tolist()\r\n",
    "    num_classes = len(label_names)\r\n",
    "    print(num_classes)\r\n",
    "    processed_docs_train = []\r\n",
    "\r\n",
    "    for doc in tqdm(raw_docs_train):\r\n",
    "        tokens = my_Tokenizer(doc)\r\n",
    "        processed_docs_train.append(tokens)\r\n",
    "\r\n",
    "    tokenizer = Tokenizer(num_words=MAX_NB_WORDS, lower=True, char_level=False)\r\n",
    "    tokenizer.fit_on_texts(processed_docs_train)\r\n",
    "    return tokenizer\r\n",
    "\r\n",
    "def Comments_embedding_padding(train_df):\r\n",
    "    raw_docs_train = train_df['Comments'].tolist()\r\n",
    "    num_classes = len(label_names)\r\n",
    "    print(num_classes)\r\n",
    "    processed_docs_train = []\r\n",
    "\r\n",
    "    for doc in tqdm(raw_docs_train):\r\n",
    "        tokens = my_Tokenizer(doc)\r\n",
    "        processed_docs_train.append(tokens)\r\n",
    "\r\n",
    "    tokenizer = Tokenizer(num_words=MAX_NB_WORDS, lower=True, char_level=False)\r\n",
    "    tokenizer.fit_on_texts(processed_docs_train)\r\n",
    "    return tokenizer\r\n",
    "\r\n",
    "tokenizer_All_rare = embedding_padding(train_df_All_rare)\r\n",
    "\r\n",
    "tokenizer_All = embedding_padding(train_df_All_b)\r\n",
    "tokenizer_pol = embedding_padding(train_df_pol)\r\n",
    "tokenizer_soc = embedding_padding(train_df_soc)\r\n",
    "tokenizer_eco = embedding_padding(train_df_eco)\r\n",
    "tokenizer_others = embedding_padding(train_df_others)\r\n",
    "\r\n",
    "tokenizer_Comments_All = Comments_embedding_padding(train_df_Comments_All)\r\n",
    "tokenizer_Comments_pol = Comments_embedding_padding(train_df_Comments_pol)\r\n",
    "tokenizer_Comments_eco = Comments_embedding_padding(train_df_Comments_eco)\r\n",
    "tokenizer_Comments_soc = Comments_embedding_padding(train_df_Comments_soc)\r\n",
    "tokenizer_Comments_others = Comments_embedding_padding(train_df_Comments_others)"
   ],
   "outputs": [
    {
     "output_type": "stream",
     "name": "stderr",
     "text": [
      "  1%|▏         | 49/3452 [00:00<00:07, 482.07it/s]"
     ]
    },
    {
     "output_type": "stream",
     "name": "stdout",
     "text": [
      "1\n"
     ]
    },
    {
     "output_type": "stream",
     "name": "stderr",
     "text": [
      "100%|██████████| 3452/3452 [00:23<00:00, 145.71it/s]\n",
      "  4%|▎         | 51/1441 [00:00<00:02, 499.98it/s]"
     ]
    },
    {
     "output_type": "stream",
     "name": "stdout",
     "text": [
      "1\n"
     ]
    },
    {
     "output_type": "stream",
     "name": "stderr",
     "text": [
      "100%|██████████| 1441/1441 [00:09<00:00, 145.58it/s]\n",
      "  0%|          | 0/509 [00:00<?, ?it/s]"
     ]
    },
    {
     "output_type": "stream",
     "name": "stdout",
     "text": [
      "1\n"
     ]
    },
    {
     "output_type": "stream",
     "name": "stderr",
     "text": [
      "100%|██████████| 509/509 [00:03<00:00, 133.85it/s]\n",
      "  8%|▊         | 40/490 [00:00<00:01, 390.82it/s]"
     ]
    },
    {
     "output_type": "stream",
     "name": "stdout",
     "text": [
      "1\n"
     ]
    },
    {
     "output_type": "stream",
     "name": "stderr",
     "text": [
      "100%|██████████| 490/490 [00:03<00:00, 148.84it/s]\n",
      " 19%|█▊        | 37/198 [00:00<00:00, 365.09it/s]"
     ]
    },
    {
     "output_type": "stream",
     "name": "stdout",
     "text": [
      "1\n"
     ]
    },
    {
     "output_type": "stream",
     "name": "stderr",
     "text": [
      "100%|██████████| 198/198 [00:01<00:00, 164.56it/s]\n",
      "  0%|          | 0/257 [00:00<?, ?it/s]"
     ]
    },
    {
     "output_type": "stream",
     "name": "stdout",
     "text": [
      "1\n"
     ]
    },
    {
     "output_type": "stream",
     "name": "stderr",
     "text": [
      "100%|██████████| 257/257 [00:01<00:00, 128.75it/s]\n",
      "  0%|          | 10/9615 [00:00<01:38, 97.47it/s]"
     ]
    },
    {
     "output_type": "stream",
     "name": "stdout",
     "text": [
      "1\n"
     ]
    },
    {
     "output_type": "stream",
     "name": "stderr",
     "text": [
      "100%|██████████| 9615/9615 [03:33<00:00, 44.95it/s]\n",
      "  0%|          | 0/3478 [00:00<?, ?it/s]"
     ]
    },
    {
     "output_type": "stream",
     "name": "stdout",
     "text": [
      "1\n"
     ]
    },
    {
     "output_type": "stream",
     "name": "stderr",
     "text": [
      "100%|██████████| 3478/3478 [01:14<00:00, 46.54it/s]\n",
      "  0%|          | 0/1231 [00:00<?, ?it/s]"
     ]
    },
    {
     "output_type": "stream",
     "name": "stdout",
     "text": [
      "1\n"
     ]
    },
    {
     "output_type": "stream",
     "name": "stderr",
     "text": [
      "100%|██████████| 1231/1231 [00:26<00:00, 47.10it/s]\n",
      "  0%|          | 0/2934 [00:00<?, ?it/s]"
     ]
    },
    {
     "output_type": "stream",
     "name": "stdout",
     "text": [
      "1\n"
     ]
    },
    {
     "output_type": "stream",
     "name": "stderr",
     "text": [
      "100%|██████████| 2934/2934 [01:06<00:00, 44.15it/s]\n",
      "  0%|          | 0/1537 [00:00<?, ?it/s]"
     ]
    },
    {
     "output_type": "stream",
     "name": "stdout",
     "text": [
      "1\n"
     ]
    },
    {
     "output_type": "stream",
     "name": "stderr",
     "text": [
      "100%|██████████| 1537/1537 [00:32<00:00, 47.86it/s]\n"
     ]
    }
   ],
   "metadata": {}
  },
  {
   "cell_type": "code",
   "execution_count": 62,
   "source": [
    "# ===========================================================================================================================\r\n",
    "# 단어 토큰화 및 빈도순 정렬 후 추출\r\n",
    "\r\n",
    "def tfidf_Vectorizer(response):\r\n",
    "    response_list = []\r\n",
    "    response_list.append(response)\r\n",
    "    tfidf_Vectorizer = TfidfVectorizer(tokenizer=my_Tokenizer, min_df=1) # df 값(단어가 몇 문장들에서 등장하였는지)을 최소 'min_df' 값으로 설정.\r\n",
    "    X = tfidf_Vectorizer.fit_transform(response_list).toarray()\r\n",
    "#     print(X.shape)    # X(2차원 배열)의 행,열 수를 출력.\r\n",
    "#     print(tfidf_Vectorizer.vocabulary_)   # 각 단어들이 배열 X에서 몇번째 열(인덱스 값)에 해당하는지 출력.\r\n",
    "\r\n",
    "\r\n",
    "    #pandas를 활용하여 각 단어들의 각 문장에서의 tf-idf 값들을 모두 더하고, 내림차순으로 정렬하여 상위 n개 출력\r\n",
    "    count = X.sum(axis=0)    # 2차원 배열 X에서 각 열을 기준으로 합을 구함. (각 단어들의 '최종' tf-idf 값으로 간주.)\r\n",
    "    word_count = pd.DataFrame({\r\n",
    "        '단어' : tfidf_Vectorizer.get_feature_names(),\r\n",
    "        '빈도' : count.flat\r\n",
    "    })\r\n",
    "    sorted_df = word_count.sort_values('빈도', ascending=False)\r\n",
    "#     print(sorted_df.head(10), \"\\n\")\r\n",
    "\r\n",
    "    word_ = list(np.array(sorted_df['단어'].tolist()))\r\n",
    "    return(word_)\r\n",
    "\r\n",
    "\r\n",
    "# ===========================================================================================================================\r\n",
    "# 네이버 댓글 분석\r\n",
    "\r\n",
    "def Naver_Comments_score(response, tokenizer, tokenizer_Comments, SNU_Model, Naver_Comments_Model):\r\n",
    "    score_list = []\r\n",
    "    for i in tqdm(range(len(response))):\r\n",
    "        response_ = re.compile(\"[^A-Za-z0-9ㄱ-ㅎㅏ-ㅣ가-힣 ]+\").sub('',response[i])\r\n",
    "        response_ = okt.morphs(response_, stem=True) # 토큰화\r\n",
    "        response_ = [word for word in response_ if not word in stopwords] # 불용어 제거\r\n",
    "        response_ = ' '.join(response_)\r\n",
    "        word_ = tfidf_Vectorizer(response_)\r\n",
    "        word__ = \"\"\r\n",
    "        if len(word_) <= 10:\r\n",
    "            word__ = response_\r\n",
    "        else:\r\n",
    "            for i in range(1, min(len(word_), 11)):\r\n",
    "                word__ += word_[i]\r\n",
    "                word__ += \" \"\r\n",
    "\r\n",
    "    # ================================================================\r\n",
    "\r\n",
    "        tokens_response = []\r\n",
    "        SNU_score_list = []\r\n",
    "\r\n",
    "        tokens = my_Tokenizer(response_)\r\n",
    "        tokens_response.append(tokens)\r\n",
    "\r\n",
    "        word_seq_response = tokenizer.texts_to_sequences(tokens_response)\r\n",
    "        word_seq_response = sequence.pad_sequences(word_seq_response, maxlen=max_seq_len)\r\n",
    "\r\n",
    "        word_seq_response_to_score = word_seq_response.reshape(1,max_seq_len)\r\n",
    "        SNU_score_list.append(float(SNU_Model.predict(word_seq_response_to_score)))\r\n",
    "\r\n",
    "        df_qq = []\r\n",
    "        headers = {'User-Agent': 'Mozilla/5.0 (Windows NT 10.0; Win64; x64) AppleWebKit/537.36 (KHTML, like Gecko) Chrome/89.0.4389.90 Safari/537.36'}\r\n",
    "\r\n",
    "        allComments = []\r\n",
    "        def create_soup(url):\r\n",
    "            res = requests.get(url, headers=headers)\r\n",
    "            res.raise_for_status()\r\n",
    "            soup = BeautifulSoup(res.text, 'html.parser')\r\n",
    "            return soup\r\n",
    "\r\n",
    "        Comments_score_list = []\r\n",
    "        # 네이버 뉴스 url을 입력합니다.\r\n",
    "        url1 = \"https://search.naver.com/search.naver?where=news&sm=tab_jum&query={}\".format(word__)\r\n",
    "        soup = create_soup(url1)\r\n",
    "        for i in range(1, 15):\r\n",
    "            List = []\r\n",
    "            try:\r\n",
    "                url = soup.select_one(\"#sp_nws{} > div.news_wrap.api_ani_send > div > div.news_info > div.info_group > a:nth-of-type(2)\".format(i))['href']\r\n",
    "                oid = url.split(\"oid=\")[1].split(\"&\")[0] #422\r\n",
    "                aid = url.split(\"aid=\")[1] #0000430957\r\n",
    "                page = 1\r\n",
    "                header = {\r\n",
    "                    \"User-agent\": \"Mozilla/5.0 (Windows NT 10.0; Win64; x64) AppleWebKit/537.36 (KHTML, like Gecko) Chrome/65.0.3325.181 Safari/537.36\",\r\n",
    "                    \"referer\": url,\r\n",
    "                }\r\n",
    "                # time.sleep(random.randint(1,2))\r\n",
    "\r\n",
    "                while True:\r\n",
    "                    c_url = \"https://apis.naver.com/commentBox/cbox/web_neo_list_jsonp.json?ticket=news&templateId=default_society&pool=cbox5&_callback=jQuery1707138182064460843_1523512042464&lang=ko&country=&objectId=news\" + oid + \"%2C\" + aid + \"&categoryId=&pageSize=20&indexSize=10&groupId=&listType=OBJECT&pageType=more&page=\" + str(\r\n",
    "                        page) + \"&refresh=false&sort=FAVORITE\"\r\n",
    "                    # 파싱하는 단계입니다.\r\n",
    "                    r = requests.get(c_url, headers=header)\r\n",
    "                    cont = BeautifulSoup(r.content, \"html.parser\")\r\n",
    "                    total_comm = str(cont).split('comment\":')[1].split(\",\")[0]\r\n",
    "\r\n",
    "                    match = re.findall('\"contents\":([^\\*]*),\"userIdNo\"', str(cont))\r\n",
    "                    # 댓글을 리스트에 중첩합니다.\r\n",
    "                    try:\r\n",
    "                        for b in range(0,3):\r\n",
    "                            List.append(match[b])\r\n",
    "                    except:\r\n",
    "                        pass\r\n",
    "                    break\r\n",
    "\r\n",
    "                tokens_response = []\r\n",
    "                score_list_sum = []\r\n",
    "\r\n",
    "                for i in range(len(List)):\r\n",
    "                    tokens = my_Tokenizer(List[i])\r\n",
    "                    tokens_response.append(tokens)\r\n",
    "\r\n",
    "                word_seq_response2 = tokenizer_Comments.texts_to_sequences(tokens_response)\r\n",
    "                word_seq_response2 = sequence.pad_sequences(word_seq_response2, maxlen=max_seq_len_Comments)\r\n",
    "                \r\n",
    "                for sco in range(len(List)):\r\n",
    "                    word_seq_response_to_score2 = word_seq_response2[sco].reshape(1,max_seq_len_Comments)\r\n",
    "                    score_list_sum.append(float(Naver_Comments_Model.predict(word_seq_response_to_score2)))\r\n",
    "\r\n",
    "                Comments_score_list.append(np.mean(score_list_sum))\r\n",
    "\r\n",
    "            except:\r\n",
    "                pass\r\n",
    "            \r\n",
    "        Comments_score_list_final = []\r\n",
    "        \r\n",
    "        Comments_score_list = [x for x in Comments_score_list if math.isnan(x)==False]\r\n",
    "        Comments_score_list_final.append(np.mean(Comments_score_list))\r\n",
    "\r\n",
    "        a = [score * 0.6 for score in SNU_score_list]\r\n",
    "        b = [score * 0.4 for score in Comments_score_list_final]\r\n",
    "        for i in range(len(b)):\r\n",
    "            if math.isnan(b[i]):\r\n",
    "                b[i] = a[i]\r\n",
    "\r\n",
    "        score_list_sum = list(map(lambda x,y:x+y, a,b))\r\n",
    "        score_list.append(score_list_sum[0])\r\n",
    "\r\n",
    "    return score_list\r\n",
    "\r\n",
    "def Naver_Score(response, tokenizer, SNU_Model):\r\n",
    "    SNU_score_list = []\r\n",
    "    for i in tqdm(range(len(response))):\r\n",
    "        response_ = re.compile(\"[^A-Za-z0-9ㄱ-ㅎㅏ-ㅣ가-힣 ]+\").sub('',response[i])\r\n",
    "        response_ = okt.morphs(response_, stem=True) # 토큰화\r\n",
    "        response_ = [word for word in response_ if not word in stopwords] # 불용어 제거\r\n",
    "        response_ = ' '.join(response_)\r\n",
    "        word_ = tfidf_Vectorizer(response_)\r\n",
    "        word__ = \"\"\r\n",
    "        if len(word_) <= 6:\r\n",
    "            word__ = response\r\n",
    "        else:\r\n",
    "            for i in range(1, min(len(word_), 7)):\r\n",
    "                word__ += word_[i]\r\n",
    "                word__ += \" \"\r\n",
    "\r\n",
    "    # ================================================================\r\n",
    "\r\n",
    "        tokens_response = []\r\n",
    "\r\n",
    "        tokens = my_Tokenizer(response_)\r\n",
    "        tokens_response.append(tokens)\r\n",
    "\r\n",
    "        word_seq_response = tokenizer.texts_to_sequences(tokens_response)\r\n",
    "        word_seq_response = sequence.pad_sequences(word_seq_response, maxlen=max_seq_len)\r\n",
    "\r\n",
    "        word_seq_response_to_score = word_seq_response.reshape(1,max_seq_len)\r\n",
    "        SNU_score_list.append(float(SNU_Model.predict(word_seq_response_to_score)))\r\n",
    "    return SNU_score_list"
   ],
   "outputs": [],
   "metadata": {}
  },
  {
   "cell_type": "code",
   "execution_count": 63,
   "source": [
    "train_df_pol_test = train_df_pol.sample(frac=0.1).reset_index(drop=True)\r\n",
    "y_train_pol_test = train_df_pol_test['label'].values"
   ],
   "outputs": [],
   "metadata": {}
  },
  {
   "cell_type": "code",
   "execution_count": 64,
   "source": [
    "test_list = train_df_pol_test['document'].values.tolist()"
   ],
   "outputs": [],
   "metadata": {}
  },
  {
   "cell_type": "code",
   "execution_count": 65,
   "source": [
    "len(test_list)"
   ],
   "outputs": [
    {
     "output_type": "execute_result",
     "data": {
      "text/plain": [
       "51"
      ]
     },
     "metadata": {},
     "execution_count": 65
    }
   ],
   "metadata": {}
  },
  {
   "cell_type": "code",
   "execution_count": 66,
   "source": [
    "balance_Comments_score_pol = Naver_Comments_score(test_list, tokenizer_pol, tokenizer_Comments_pol, SNU_model_pol, Naver_Comments_pol)\r\n",
    "balance_score_pol = Naver_Score(test_list, tokenizer_pol, SNU_model_pol)\r\n",
    "All_score_pol = Naver_Score(test_list, tokenizer_All, SNU_model_All)\r\n",
    "All_rare_score_pol = Naver_Score(test_list, tokenizer_All_rare, SNU_model_All_rare)\r\n",
    "\r\n",
    "# balance_Comments_score_eco = Naver_Comments_score(test_list, tokenizer_eco, tokenizer_Comments_eco, SNU_model_eco, Naver_Comments_eco)\r\n",
    "# balance_score_eco = Naver_Score(test_list, tokenizer_eco, SNU_model_eco)\r\n",
    "# All_score_eco = Naver_Score(test_list, tokenizer_All, SNU_model_All)\r\n",
    "# All_rare_score_eco = Naver_Score(test_list, tokenizer_All_rare, SNU_model_All_rare)\r\n",
    "\r\n",
    "# balance_Comments_score_soc = Naver_Comments_score(test_list, tokenizer_soc, tokenizer_Comments_soc, SNU_model_soc, Naver_Comments_soc)\r\n",
    "# balance_score_soc = Naver_Score(test_list, tokenizer_soc, SNU_model_soc)\r\n",
    "# All_score_soc = Naver_Score(test_list, tokenizer_All, SNU_model_All)\r\n",
    "# All_rare_score_soc = Naver_Score(test_list, tokenizer_All_rare, SNU_model_All_rare)\r\n",
    "\r\n",
    "# balance_Comments_score_others = Naver_Comments_score(test_list, tokenizer_others, tokenizer_Comments_others, SNU_model_others, Naver_Comments_others)\r\n",
    "# balance_score_others = Naver_Score(test_list, tokenizer_others, SNU_model_others)\r\n",
    "# All_score_others = Naver_Score(test_list, tokenizer_All, SNU_model_All)\r\n",
    "# All_rare_score_others = Naver_Score(test_list, tokenizer_All_rare, SNU_model_All_rare)"
   ],
   "outputs": [
    {
     "output_type": "stream",
     "name": "stderr",
     "text": [
      "  0%|          | 0/51 [00:00<?, ?it/s]"
     ]
    },
    {
     "output_type": "stream",
     "name": "stdout",
     "text": [
      "WARNING:tensorflow:Model was constructed with shape (None, 11) for input KerasTensor(type_spec=TensorSpec(shape=(None, 11), dtype=tf.float32, name='embedding_6_input'), name='embedding_6_input', description=\"created by layer 'embedding_6_input'\"), but it was called on an input with incompatible shape (None, 10).\n"
     ]
    },
    {
     "output_type": "stream",
     "name": "stderr",
     "text": [
      "  2%|▏         | 1/51 [00:07<05:59,  7.19s/it]/home/ubuntu/anaconda3/envs/tensorflow2_latest_p37/lib/python3.7/site-packages/numpy/core/fromnumeric.py:3373: RuntimeWarning: Mean of empty slice.\n",
      "  out=out, **kwargs)\n",
      "/home/ubuntu/anaconda3/envs/tensorflow2_latest_p37/lib/python3.7/site-packages/numpy/core/_methods.py:170: RuntimeWarning: invalid value encountered in double_scalars\n",
      "  ret = ret.dtype.type(ret / rcount)\n",
      "100%|██████████| 51/51 [01:06<00:00,  1.31s/it]\n",
      "100%|██████████| 51/51 [00:04<00:00, 11.15it/s]\n",
      "  0%|          | 0/51 [00:00<?, ?it/s]"
     ]
    },
    {
     "output_type": "stream",
     "name": "stdout",
     "text": [
      "WARNING:tensorflow:Model was constructed with shape (None, 11) for input KerasTensor(type_spec=TensorSpec(shape=(None, 11), dtype=tf.float32, name='embedding_10_input'), name='embedding_10_input', description=\"created by layer 'embedding_10_input'\"), but it was called on an input with incompatible shape (None, 10).\n"
     ]
    },
    {
     "output_type": "stream",
     "name": "stderr",
     "text": [
      "100%|██████████| 51/51 [00:06<00:00,  7.66it/s]\n",
      "100%|██████████| 51/51 [00:07<00:00,  6.98it/s]\n"
     ]
    }
   ],
   "metadata": {}
  },
  {
   "cell_type": "code",
   "execution_count": 67,
   "source": [
    "from sklearn.metrics import accuracy_score\r\n",
    "\r\n",
    "def data_(test_score):\r\n",
    "    for i in range(len(test_score)):\r\n",
    "        if test_score[i] >= 0.5:\r\n",
    "            test_score[i]=1\r\n",
    "        else:\r\n",
    "            test_score[i]=0\r\n",
    "    return test_score\r\n",
    "\r\n",
    "balance_Comments_score_pol = data_(balance_Comments_score_pol)\r\n",
    "balance_score_pol = data_(balance_score_pol)\r\n",
    "All_score_pol = data_(All_score_pol)\r\n",
    "All_rare_score_pol = data_(All_rare_score_pol)\r\n",
    "\r\n",
    "# balance_Comments_score_eco = data_(balance_Comments_score_eco)\r\n",
    "# balance_score_eco = data_(balance_score_eco)\r\n",
    "# All_score_eco = data_(All_score_eco)\r\n",
    "# All_rare_score_eco = data_(All_rare_score_eco)\r\n",
    "\r\n",
    "# balance_Comments_score_soc = data_(balance_Comments_score_soc)\r\n",
    "# balance_score_soc = data_(balance_score_soc)\r\n",
    "# All_score_soc = data_(All_score_soc)\r\n",
    "# All_rare_score_soc = data_(All_rare_score_soc)\r\n",
    "\r\n",
    "# balance_Comments_score_others = data_(balance_Comments_score_others)\r\n",
    "# balance_score_others = data_(balance_score_others)\r\n",
    "# All_score_others = data_(All_score_others)\r\n",
    "# All_rare_score_others = data_(All_rare_score_others)\r\n",
    "\r\n",
    "print('정치 카테고리 (Under Sampling) with Comments : ', accuracy_score(balance_Comments_score_pol, y_train_pol_test))\r\n",
    "print('정치 카테고리 (Under Sampling) : ', accuracy_score(balance_score_pol, y_train_pol_test))\r\n",
    "print('All 카테고리 (underSampling) : ', accuracy_score(All_score_pol, y_train_pol_test))\r\n",
    "print('All 카테고리 : ', accuracy_score(All_rare_score_pol, y_train_pol_test))\r\n",
    "\r\n",
    "# print('경제 카테고리 (Under Sampling) with Comments : ', accuracy_score(balance_Comments_score_eco, y_train_eco_test))\r\n",
    "# print('경제 카테고리 (Under Sampling) : ', accuracy_score(balance_score_eco, y_train_eco_test))\r\n",
    "# print('All 카테고리 (underSampling) : ', accuracy_score(All_score_eco, y_train_eco_test))\r\n",
    "# print('All 카테고리 : ', accuracy_score(All_rare_score_eco, y_train_eco_test))\r\n",
    "\r\n",
    "# print('사회 카테고리 (Under Sampling) with Comments : ' accuracy_score(balance_Comments_score_soc, y_train_soc_test))\r\n",
    "# print('사회 카테고리 (Under Sampling) : ' accuracy_score(balance_score_soc, y_train_soc_test))\r\n",
    "# print('All 카테고리 (underSampling) : 'accuracy_score(All_score_soc, y_train_soc_test))\r\n",
    "# print('All 카테고리 : 'accuracy_score(All_rare_score_soc, y_train_soc_test))\r\n",
    "\r\n",
    "# print('기타 카테고리 (Under Sampling) with Comments : ' accuracy_score(balance_Comments_score_others, y_train_others_test))\r\n",
    "# print('기타 카테고리 (Under Sampling) : ' accuracy_score(balance_score_others, y_train_others_test))\r\n",
    "# print('All 카테고리 (underSampling) : 'accuracy_score(All_score_others, y_train_others_test))\r\n",
    "# print('All 카테고리 : 'accuracy_score(All_rare_score_others, y_train_others_test))"
   ],
   "outputs": [
    {
     "output_type": "stream",
     "name": "stdout",
     "text": [
      "정치 카테고리 (Under Sampling) with Comments :  0.7843137254901961\n",
      "정치 카테고리 (Under Sampling) :  0.803921568627451\n",
      "All 카테고리 (underSampling) :  0.8235294117647058\n",
      "All 카테고리 :  0.6862745098039216\n"
     ]
    }
   ],
   "metadata": {}
  },
  {
   "cell_type": "code",
   "execution_count": null,
   "source": [
    "balanced_model = load_model('SNU_LSTM_Model_경제_balance.h5')\r\n",
    "balanced_score = balanced_model.evaluate(word_seq_train, y_train, batch_size=1)\r\n",
    "model = load_model('SNU_LSTM_Model_경제.h5')\r\n",
    "scores = model.evaluate(word_seq_train, y_train, batch_size=1)\r\n",
    "all_model = load_model('SNU_LSTM_Model_All.h5')\r\n",
    "all_scores = all_model.evaluate(word_seq_train, y_train, batch_size=1)"
   ],
   "outputs": [],
   "metadata": {}
  },
  {
   "cell_type": "code",
   "execution_count": null,
   "source": [
    "print(\"경제 balanced data LSTM %s: %.2f%%\" %(balanced_model.metrics_names[1], scores[1]*100))\r\n",
    "print(\"경제 data LSTM %s: %.2f%%\" %(model.metrics_names[1], scores[1]*100))\r\n",
    "print(\"전체 data LSTM %s: %.2f%%\" %(all_model.metrics_names[1], all_scores[1]*100))"
   ],
   "outputs": [],
   "metadata": {}
  }
 ],
 "metadata": {
  "kernelspec": {
   "display_name": "Python 3",
   "language": "python",
   "name": "python3"
  },
  "language_info": {
   "codemirror_mode": {
    "name": "ipython",
    "version": 3
   },
   "file_extension": ".py",
   "mimetype": "text/x-python",
   "name": "python",
   "nbconvert_exporter": "python",
   "pygments_lexer": "ipython3",
   "version": "3.7.10"
  }
 },
 "nbformat": 4,
 "nbformat_minor": 5
}